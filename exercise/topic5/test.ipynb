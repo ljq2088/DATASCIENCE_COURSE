{
 "cells": [
  {
   "cell_type": "code",
   "execution_count": 4,
   "metadata": {},
   "outputs": [
    {
     "name": "stdout",
     "output_type": "stream",
     "text": [
      "[-0.06408118  0.25654065 -1.70904743 -6.15308896 -7.69082139]\n"
     ]
    }
   ],
   "source": [
    "from GLRT_cal import fftfilt,signal\n",
    "import numpy as np\n",
    "print(signal(np.array([1,2,3,4,5]),10,np.array([1,2,3])))\n",
    "\n"
   ]
  }
 ],
 "metadata": {
  "kernelspec": {
   "display_name": "few_env",
   "language": "python",
   "name": "python3"
  },
  "language_info": {
   "codemirror_mode": {
    "name": "ipython",
    "version": 3
   },
   "file_extension": ".py",
   "mimetype": "text/x-python",
   "name": "python",
   "nbconvert_exporter": "python",
   "pygments_lexer": "ipython3",
   "version": "3.7.12"
  },
  "orig_nbformat": 4
 },
 "nbformat": 4,
 "nbformat_minor": 2
}
