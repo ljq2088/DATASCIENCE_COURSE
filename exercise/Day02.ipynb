{
 "cells": [
  {
   "cell_type": "code",
   "execution_count": 1,
   "metadata": {},
   "outputs": [],
   "source": [
    "import sys\n",
    "import os\n",
    "\n",
    "import matplotlib.pyplot as plt\n",
    "%matplotlib inline\n",
    "import numpy as np\n",
    "\n",
    "from few.trajectory.inspiral import EMRIInspiral\n",
    "from few.amplitude.romannet import RomanAmplitude\n",
    "from few.amplitude.interp2dcubicspline import Interp2DAmplitude\n",
    "from few.waveform import FastSchwarzschildEccentricFlux, SlowSchwarzschildEccentricFlux, GenerateEMRIWaveform\n",
    "from few.utils.utility import (get_overlap, \n",
    "                               get_mismatch, \n",
    "                               get_fundamental_frequencies, \n",
    "                               get_separatrix, \n",
    "                               get_mu_at_t, \n",
    "                               get_p_at_t, \n",
    "                               get_kerr_geo_constants_of_motion,\n",
    "                               xI_to_Y,\n",
    "                               Y_to_xI)\n",
    "\n",
    "from few.utils.ylm import GetYlms\n",
    "from few.utils.modeselector import ModeSelector\n",
    "from few.summation.interpolatedmodesum import CubicSplineInterpolant\n",
    "from few.waveform import SchwarzschildEccentricWaveformBase\n",
    "from few.summation.interpolatedmodesum import InterpolatedModeSum\n",
    "from few.summation.directmodesum import DirectModeSum\n",
    "from few.utils.constants import *\n",
    "from few.summation.aakwave import AAKSummation\n",
    "from few.waveform import Pn5AAKWaveform, AAKWaveformBase"
   ]
  },
  {
   "cell_type": "code",
   "execution_count": 2,
   "metadata": {},
   "outputs": [],
   "source": [
    "use_gpu = False\n",
    "\n",
    "# keyword arguments for inspiral generator (RunSchwarzEccFluxInspiral)\n",
    "inspiral_kwargs={\n",
    "        \"DENSE_STEPPING\": 0,  # we want a sparsely sampled trajectory\n",
    "        \"max_init_len\": int(1e3),  # all of the trajectories will be well under len = 1000\n",
    "    }\n",
    "\n",
    "# keyword arguments for inspiral generator (RomanAmplitude)\n",
    "amplitude_kwargs = {\n",
    "    \"max_init_len\": int(1e3),  # all of the trajectories will be well under len = 1000\n",
    "    \"use_gpu\": use_gpu  # GPU is available in this class\n",
    "}\n",
    "\n",
    "# keyword arguments for Ylm generator (GetYlms)\n",
    "Ylm_kwargs = {\n",
    "    \"assume_positive_m\": False  # if we assume positive m, it will generate negative m for all m>0\n",
    "}\n",
    "\n",
    "# keyword arguments for summation generator (InterpolatedModeSum)\n",
    "sum_kwargs = {\n",
    "    \"use_gpu\": use_gpu,  # GPU is availabel for this type of summation\n",
    "    \"pad_output\": False,\n",
    "}\n",
    "\n",
    "# set omp threads one of two ways\n",
    "num_threads = 4\n",
    "\n",
    "# this is the general way to set it for all computations\n",
    "from few.utils.utility import omp_set_num_threads\n",
    "omp_set_num_threads(num_threads)\n",
    "\n",
    "few = FastSchwarzschildEccentricFlux(\n",
    "    inspiral_kwargs=inspiral_kwargs,\n",
    "    amplitude_kwargs=amplitude_kwargs,\n",
    "    Ylm_kwargs=Ylm_kwargs,\n",
    "    sum_kwargs=sum_kwargs,\n",
    "    use_gpu=use_gpu,\n",
    "    num_threads=num_threads,  # 2nd way for specific classes\n",
    ")"
   ]
  },
  {
   "cell_type": "code",
   "execution_count": 4,
   "metadata": {},
   "outputs": [
    {
     "data": {
      "text/plain": [
       "<function matplotlib.pyplot.show(close=None, block=None)>"
      ]
     },
     "execution_count": 4,
     "metadata": {},
     "output_type": "execute_result"
    },
    {
     "data": {
      "image/png": "[encoded data removed]",
      "text/plain": [
       "<Figure size 640x480 with 1 Axes>"
      ]
     },
     "metadata": {},
     "output_type": "display_data"
    }
   ],
   "source": [
    "gen_wave = GenerateEMRIWaveform(\"Pn5AAKWaveform\")\n",
    "\n",
    "# parameters\n",
    "T = 4  # years\n",
    "dt = 10.0  # seconds\n",
    "M = 5e5\n",
    "a = 0.98\n",
    "mu = 50\n",
    "p0 = 11.0\n",
    "e0 = 0.1\n",
    "x0 = 0.7  # notice this is x_I, not Y. The AAK waveform can convert to Y. \n",
    "qK = 0.2  # polar spin angle\n",
    "phiK = 0.2  # azimuthal viewing angle\n",
    "qS = 0.3  # polar sky angle\n",
    "phiS = 0.3  # azimuthal viewing angle\n",
    "dist = 1# distance\n",
    "Phi_phi0 = 1.0\n",
    "Phi_theta0 = 2.0\n",
    "Phi_r0 = 3.0\n",
    "\n",
    "h = gen_wave(\n",
    "    M,\n",
    "    mu,\n",
    "    a,\n",
    "    p0,\n",
    "    e0,\n",
    "    x0,\n",
    "    dist,\n",
    "    qS,\n",
    "    phiS,\n",
    "    qK,\n",
    "    phiK,\n",
    "    Phi_phi0,\n",
    "    Phi_theta0,\n",
    "    Phi_r0,\n",
    "    T=T,\n",
    "    dt=dt,\n",
    ")\n",
    "lenth=2000\n",
    "timearray=np.arange(lenth)\n",
    "plt.plot(timearray,h.real[:lenth])\n",
    "plt.show\n",
    "\n",
    "# temp=h[:2000]\n",
    "# h=temp\n"
   ]
  }
 ],
 "metadata": {
  "kernelspec": {
   "display_name": "few_env",
   "language": "python",
   "name": "python3"
  },
  "language_info": {
   "codemirror_mode": {
    "name": "ipython",
    "version": 3
   },
   "file_extension": ".py",
   "mimetype": "text/x-python",
   "name": "python",
   "nbconvert_exporter": "python",
   "pygments_lexer": "ipython3",
   "version": "3.7.12"
  },
  "orig_nbformat": 4
 },
 "nbformat": 4,
 "nbformat_minor": 2
}
