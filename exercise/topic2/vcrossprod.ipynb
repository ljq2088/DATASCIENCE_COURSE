{
 "cells": [
  {
   "cell_type": "code",
   "execution_count": 2,
   "metadata": {},
   "outputs": [],
   "source": [
    "import sys\n",
    "import os\n",
    "import math\n",
    "from math import pi\n",
    "import matplotlib.pyplot as plt\n",
    "%matplotlib inline\n",
    "import numpy as np\n",
    "from scipy.fftpack import fft, ifft\n",
    "from mpl_toolkits.mplot3d import Axes3D\n"
   ]
  },
  {
   "cell_type": "code",
   "execution_count": 3,
   "metadata": {},
   "outputs": [
    {
     "name": "stdout",
     "output_type": "stream",
     "text": [
      "[[ 1.  2.  3.]\n",
      " [-2. -4. -6.]\n",
      " [ 1.  2.  3.]\n",
      " [ 0.  0.  0.]\n",
      " [ 0.  0.  0.]\n",
      " [ 0.  0.  0.]\n",
      " [ 0.  0.  0.]\n",
      " [ 0.  0.  0.]\n",
      " [ 0.  0.  0.]]\n"
     ]
    }
   ],
   "source": [
    "def c_vec(v1,v2):\n",
    "    n,_=v1.shape\n",
    "    c=np.zeros((n,3))\n",
    "    c[:][0]=v1[:][1]*v2[:][2]-v1[:][2]*v2[:][1]\n",
    "    c[:][1]=v1[:][2]*v2[:][0]-v1[:][0]*v2[:][2]\n",
    "    c[:][2]=v1[:][0]*v2[:][1]-v1[:][1]*v2[:][0]\n",
    "    return c\n",
    "a=np.arange(1,10)\n",
    "b=np.arange(1,4)\n",
    "v1,v2=np.meshgrid(b,a)\n",
    "\n",
    "c=c_vec(v1,v2)\n",
    "print(c)"
   ]
  }
 ],
 "metadata": {
  "kernelspec": {
   "display_name": "few_env",
   "language": "python",
   "name": "python3"
  },
  "language_info": {
   "codemirror_mode": {
    "name": "ipython",
    "version": 3
   },
   "file_extension": ".py",
   "mimetype": "text/x-python",
   "name": "python",
   "nbconvert_exporter": "python",
   "pygments_lexer": "ipython3",
   "version": "3.7.12"
  },
  "orig_nbformat": 4
 },
 "nbformat": 4,
 "nbformat_minor": 2
}
